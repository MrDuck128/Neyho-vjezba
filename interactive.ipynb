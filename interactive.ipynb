{
 "cells": [
  {
   "cell_type": "code",
   "execution_count": null,
   "id": "fc600d26-bb01-4ba7-93d0-af39037558a6",
   "metadata": {},
   "outputs": [],
   "source": [
    "from selenium import webdriver\n",
    "from selenium.webdriver.chrome.service import Service\n",
    "from selenium.webdriver.common.by import By\n",
    "from selenium.webdriver.common.keys import Keys\n",
    "from selenium.webdriver.support.ui import WebDriverWait\n",
    "from selenium.webdriver.support import expected_conditions as EC\n",
    "from time import sleep"
   ]
  },
  {
   "cell_type": "code",
   "execution_count": 69,
   "id": "906cb70c-9630-4f9e-9e6e-64f8e519d2a7",
   "metadata": {},
   "outputs": [
    {
     "name": "stdout",
     "output_type": "stream",
     "text": [
      "['Postaja', 'Vjetar smjer', 'Vjetar brzina (m/s)', 'Temperatura zraka (°C)', 'Relativna vlažnost (%)', 'Tlak zraka (hPa)', 'Tendencija tlaka (hPa/3h)', 'Stanje vremena']\n"
     ]
    }
   ],
   "source": [
    "service = Service(executable_path='chromedriver.exe')\n",
    "driver = webdriver.Chrome(service=service)\n",
    "\n",
    "driver.get('https://meteo.hr/podaci.php?section=podaci_vrijeme&param=hrvatska1_n')\n",
    "\n",
    "# https://meteo.hr/podaci.php?section=podaci_vrijeme&param=hrvatska1_n&sat=01\n",
    "\n",
    "WebDriverWait(driver, 3).until(\n",
    "    EC.presence_of_element_located((By.ID, 'table-aktualni-podaci'))\n",
    ")\n",
    "\n",
    "columnTitlesElements = driver.find_elements(By.XPATH, '//div[@class=\"fd-c-table--responsive fd-u-display--none fd-u-md-display--block\"]/table/thead/tr/th')\n",
    "\n",
    "columnTitles = [col.text.replace('\\n', ' ') for col in columnTitlesElements]\n",
    "print(columnTitles)\n",
    "\n",
    "columnDataElements = driver.find_elements(By.XPATH, '//div[@class=\"fd-c-table--responsive fd-u-display--none fd-u-md-display--block\"]/table/tbody/tr/td')\n",
    "\n",
    "\n",
    "driver.quit()"
   ]
  }
 ],
 "metadata": {
  "kernelspec": {
   "display_name": "Python 3 (ipykernel)",
   "language": "python",
   "name": "python3"
  },
  "language_info": {
   "codemirror_mode": {
    "name": "ipython",
    "version": 3
   },
   "file_extension": ".py",
   "mimetype": "text/x-python",
   "name": "python",
   "nbconvert_exporter": "python",
   "pygments_lexer": "ipython3",
   "version": "3.11.3"
  }
 },
 "nbformat": 4,
 "nbformat_minor": 5
}
